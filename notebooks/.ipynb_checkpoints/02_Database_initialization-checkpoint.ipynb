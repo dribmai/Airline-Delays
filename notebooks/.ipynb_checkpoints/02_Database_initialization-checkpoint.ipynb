{
 "cells": [
  {
   "cell_type": "markdown",
   "metadata": {},
   "source": [
    " # Data Engineer module continued\n",
    " In this notebook I focus on creating a dedicated database with a table structure.\n",
    " I initialize the database in notebook, not directly on PostgreSQL.\n",
    " I created a file with the database structure in a folder `sql/database_schema.sql`\n",
    " \n",
    " > For this task, you must have `Postgres` installed on your computer"
   ]
  },
  {
   "cell_type": "markdown",
   "metadata": {},
   "source": [
    "Importing the required libraries"
   ]
  },
  {
   "cell_type": "code",
   "execution_count": 1,
   "metadata": {},
   "outputs": [
    {
     "name": "stdout",
     "output_type": "stream",
     "text": [
      "Defaulting to user installation because normal site-packages is not writeable\n",
      "Requirement already satisfied: psycopg2-binary in c:\\users\\jedrek-dell\\appdata\\roaming\\python\\python39\\site-packages (2.9.5)\n"
     ]
    }
   ],
   "source": [
    "!pip install psycopg2-binary\n",
    "import psycopg2\n",
    "from psycopg2 import connect"
   ]
  },
  {
   "cell_type": "code",
   "execution_count": 2,
   "metadata": {},
   "outputs": [
    {
     "name": "stdout",
     "output_type": "stream",
     "text": [
      "Defaulting to user installation because normal site-packages is not writeable\n",
      "Requirement already satisfied: pymysql in c:\\users\\jedrek-dell\\appdata\\roaming\\python\\python39\\site-packages (1.1.0)\n"
     ]
    }
   ],
   "source": [
    "!pip install pymysql"
   ]
  },
  {
   "cell_type": "markdown",
   "metadata": {},
   "source": [
    " ## Connection to the database"
   ]
  },
  {
   "cell_type": "code",
   "execution_count": 6,
   "metadata": {},
   "outputs": [],
   "source": [
    "username = 'postgres'\n",
    "password = 'password' # your postgres password\n",
    "host = 'localhost'\n",
    "database = 'Airlines_project'\n",
    "port = 5432"
   ]
  },
  {
   "cell_type": "markdown",
   "metadata": {},
   "source": [
    "Variable definition `con` and `cursor`"
   ]
  },
  {
   "cell_type": "code",
   "execution_count": 7,
   "metadata": {},
   "outputs": [
    {
     "name": "stdout",
     "output_type": "stream",
     "text": [
      "'Airlines_project' Database has been successfully created\n"
     ]
    }
   ],
   "source": [
    "new_database_name = database\n",
    "con = psycopg2.connect(\n",
    "            user=username,\n",
    "            password=password,\n",
    "            host=host \n",
    "        )\n",
    "cursor = con.cursor()\n",
    "con.autocommit = True\n",
    "cursor.execute(f\"CREATE DATABASE {new_database_name};\")\n",
    "print(f\"'{new_database_name}' Database has been successfully created\")\n",
    "con.autocommit = False\n",
    "# cursor.close()"
   ]
  },
  {
   "cell_type": "markdown",
   "metadata": {},
   "source": [
    "Loading a file `database_schema.sql`"
   ]
  },
  {
   "cell_type": "code",
   "execution_count": 5,
   "metadata": {},
   "outputs": [],
   "source": [
    "file_path = r'../sql/database_schema.sql'"
   ]
  },
  {
   "cell_type": "markdown",
   "metadata": {},
   "source": [
    "Splitting the contents of a file `database_schema.sql` into smaller queries using `;`"
   ]
  },
  {
   "cell_type": "code",
   "execution_count": 6,
   "metadata": {
    "scrolled": true
   },
   "outputs": [
    {
     "name": "stdout",
     "output_type": "stream",
     "text": [
      "DROP TABLE IF EXISTS public.aircraft CASCADE\n",
      "CREATE TABLE IF NOT EXISTS public.aircraft\n",
      "(\n",
      "    id serial,\n",
      "    manufacture_year bigint,\n",
      "    tail_num text,\n",
      "    number_of_seats double precision\n",
      ")\n",
      "CREATE OR REPLACE VIEW public.v_aircraft_blocker AS\n",
      "SELECT 1 FROM public.aircraft LIMIT 1\n",
      "DROP TABLE IF EXISTS public.airport_weather CASCADE\n",
      "CREATE TABLE IF NOT EXISTS public.airport_weather\n",
      "(\n",
      "    id serial,\n",
      "    station text,\n",
      "    name text,\n",
      "    date text,\n",
      "    awnd double precision,\n",
      "    pgtm double precision,\n",
      "    prcp double precision,\n",
      "    snow double precision,\n",
      "    snwd double precision,\n",
      "    tavg double precision,\n",
      "    tmax double precision,\n",
      "    tmin double precision,\n",
      "    wdf2 double precision,\n",
      "    wdf5 double precision,\n",
      "    wsf2 double precision,\n",
      "    wsf5 double precision,\n",
      "    wt01 double precision,\n",
      "    wt02 double precision,\n",
      "    wt03 double precision,\n",
      "    wt04 double precision,\n",
      "    wt05 double precision,\n",
      "    wt06 double precision,\n",
      "    wt07 double precision,\n",
      "    wt08 double precision,\n",
      "    wt09 double precision,\n",
      "    wesd double precision,\n",
      "    wt10 double precision,\n",
      "    psun double precision,\n",
      "    tsun double precision,\n",
      "    sn32 double precision,\n",
      "    sx32 double precision,\n",
      "    tobs double precision,\n",
      "    wt11 double precision,\n",
      "    wt18 double precision\n",
      ")\n",
      "/* BLOCKER TO FORCE USAGE if_exists in PANDAS REMOVE IF OBSTACLE*/\n",
      "CREATE OR REPLACE VIEW public.v_aircraft_weather_blocker AS\n",
      "SELECT 1 FROM public.airport_weather LIMIT 1\n",
      "DROP TABLE IF EXISTS public.flight CASCADE\n",
      "CREATE TABLE IF NOT EXISTS public.flight\n",
      "(\n",
      "    id serial,\n",
      "    month bigint,\n",
      "    day_of_month bigint,\n",
      "    day_of_week bigint,\n",
      "    op_unique_carrier text,\n",
      "    tail_num text,\n",
      "    op_carrier_fl_num bigint,\n",
      "    origin_airport_id bigint,\n",
      "    dest_airport_id bigint,\n",
      "    crs_dep_time bigint,\n",
      "    dep_time double precision,\n",
      "    dep_delay_new double precision,\n",
      "    dep_time_blk text,\n",
      "    crs_arr_time bigint,\n",
      "    arr_time double precision,\n",
      "    arr_delay_new double precision,\n",
      "    arr_time_blk text,\n",
      "    cancelled double precision,\n",
      "    crs_elapsed_time double precision,\n",
      "    actual_elapsed_time double precision,\n",
      "    distance double precision,\n",
      "    distance_group bigint,\n",
      "    carrier_delay double precision,\n",
      "    weather_delay double precision,\n",
      "    nas_delay double precision,\n",
      "    security_delay double precision,\n",
      "    late_aircraft_delay double precision,\n",
      "    year bigint\n",
      ")\n",
      "/* BLOCKER TO FORCE USAGE if_exists in PANDAS REMOVE IF OBSTACLE*/\n",
      "CREATE OR REPLACE VIEW public.v_flight_blocker AS\n",
      "SELECT 1 FROM public.flight LIMIT 1\n",
      "DROP TABLE IF EXISTS public.airport_list CASCADE\n",
      "CREATE TABLE IF NOT EXISTS public.airport_list\n",
      "(\n",
      "    id serial,\n",
      "    origin_airport_id bigint,\n",
      "    display_airport_name text ,\n",
      "    origin_city_name text ,\n",
      "    name text \n",
      ")\n",
      "CREATE OR REPLACE VIEW public.v_airport_list_blocker AS\n",
      "SELECT 1 FROM public.airport_list LIMIT 1\n"
     ]
    }
   ],
   "source": [
    "with open(file_path, 'r') as file:\n",
    "    data = file.read()\n",
    "data\n",
    "queries = data.split(';')\n",
    "\n",
    "queries = [query.strip() for query in queries if query.strip() != '']\n",
    "\n",
    "for query in queries:\n",
    "    print(query)"
   ]
  },
  {
   "cell_type": "markdown",
   "metadata": {},
   "source": [
    "Executing each query to initialize the database structure"
   ]
  },
  {
   "cell_type": "code",
   "execution_count": 7,
   "metadata": {},
   "outputs": [],
   "source": [
    "for query in queries:\n",
    "    try:\n",
    "        cursor.execute(query)\n",
    "    except Exception as e:\n",
    "        print(f\"An error occurred: {e}\")"
   ]
  },
  {
   "cell_type": "markdown",
   "metadata": {},
   "source": [
    "Confirmation of all database operations, tables creation"
   ]
  },
  {
   "cell_type": "code",
   "execution_count": 8,
   "metadata": {},
   "outputs": [],
   "source": [
    "for query in queries:\n",
    "    try:\n",
    "        cursor.execute(query)\n",
    "        con.commit()  \n",
    "    except Exception as e:\n",
    "        print(f\"An error occurred: {e}\")\n",
    "        con.rollback()"
   ]
  },
  {
   "cell_type": "code",
   "execution_count": null,
   "metadata": {},
   "outputs": [],
   "source": [
    "con.close()"
   ]
  },
  {
   "cell_type": "markdown",
   "metadata": {},
   "source": [
    " ## Sum up\n",
    " Using this notebook, database was built automatically.\n",
    "Thanks to this, we no longer have to worry about rebuilding it manually - if necessary, just turn on the notebook.\n",
    "By creating next notebook, I will ensure that the tables include data needed for subsequent analysis and reporting."
   ]
  }
 ],
 "metadata": {
  "kernelspec": {
   "display_name": "Python 3 (ipykernel)",
   "language": "python",
   "name": "python3"
  },
  "language_info": {
   "codemirror_mode": {
    "name": "ipython",
    "version": 3
   },
   "file_extension": ".py",
   "mimetype": "text/x-python",
   "name": "python",
   "nbconvert_exporter": "python",
   "pygments_lexer": "ipython3",
   "version": "3.9.13"
  },
  "vscode": {
   "interpreter": {
    "hash": "38d75d0df746d7f75dd34c5d1915af59cb55786647bd68b8d9064425d7680b12"
   }
  }
 },
 "nbformat": 4,
 "nbformat_minor": 2
}
