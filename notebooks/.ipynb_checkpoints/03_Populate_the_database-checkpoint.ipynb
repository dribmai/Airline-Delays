{
 "cells": [
  {
   "cell_type": "markdown",
   "metadata": {},
   "source": [
    " # Data Engineer module continued\n",
    " In the previous steps, I downloaded the data and prepared the database `Postgres` for import. The main goal in this notebook is to properly adapt the data structure of the source files to a compatible with `Postgres` format, and then upload the data to the server. Thanks to this, in later steps we can independently use the data for analysis or reporting.\n",
    " \n",
    " I again played the role of a Data Engineer, whose task was to feed the database with downloaded data."
   ]
  },
  {
   "cell_type": "markdown",
   "metadata": {},
   "source": [
    "## Connection to the database"
   ]
  },
  {
   "cell_type": "code",
   "execution_count": 1,
   "metadata": {},
   "outputs": [],
   "source": [
    "import psycopg2\n",
    "from psycopg2 import connect\n",
    "\n",
    "username = 'postgres'\n",
    "password = 'password' # your postgres password\n",
    "host = 'localhost'\n",
    "database = 'Airlines_project'\n",
    "port = 5432"
   ]
  },
  {
   "cell_type": "markdown",
   "metadata": {},
   "source": [
    " Creating variables `url` and `engine` [doc](https://docs.sqlalchemy.org/en/14/core/engines.html) <br>\n",
    "According to the `Pandas` documentation, `engine` will be needed to export data to the `SQL` server."
   ]
  },
  {
   "cell_type": "code",
   "execution_count": 2,
   "metadata": {},
   "outputs": [],
   "source": [
    "from sqlalchemy import create_engine\n",
    "\n",
    "url = f\"postgresql://{username}:{password}@{host}:{port}/{database}\"\n",
    "engine = create_engine(url)\n",
    "conn = engine.connect()"
   ]
  },
  {
   "cell_type": "markdown",
   "metadata": {},
   "source": [
    " ## Loading dataframes into the workspace\n",
    "I will use the function `load_raw_data`, which takes one parameter:\n",
    " * `file_name` - name of the file to load\n",
    " Its task is to load the raw file, modify the column names from `NAZWA_KOLUMNY` into `nazwa_kolumny` and returning the thus modified data frame"
   ]
  },
  {
   "cell_type": "code",
   "execution_count": 3,
   "metadata": {},
   "outputs": [],
   "source": [
    "import pandas as pd\n",
    "def load_raw_data(file_name):\n",
    "    df = pd.read_csv(file_name, delimiter=';')\n",
    "    df.rename(columns = str.lower, inplace = True)\n",
    "    return df"
   ]
  },
  {
   "cell_type": "markdown",
   "metadata": {},
   "source": [
    "Loading dataframes"
   ]
  },
  {
   "cell_type": "code",
   "execution_count": 4,
   "metadata": {},
   "outputs": [],
   "source": [
    "df_airport_list = load_raw_data(r'../data/raw/airport_list.csv')\n",
    "df_airport_weather = load_raw_data(r'../data/raw/airport_weather.csv')\n",
    "df_aircraft = load_raw_data(r'../data/raw/aircraft.csv')\n",
    "df_flight= load_raw_data(r'../data/raw/flight.csv')"
   ]
  },
  {
   "cell_type": "markdown",
   "metadata": {},
   "source": [
    " ## Data export to the database\n",
    " I will use the function `export_table_to_db`, which takes two parameter:\n",
    " * `df` - dataframe to export,\n",
    " * `table_name` - name of the df in the database - table."
   ]
  },
  {
   "cell_type": "code",
   "execution_count": 5,
   "metadata": {},
   "outputs": [],
   "source": [
    "def export_table_to_db(df, table_name):\n",
    "    print(f\"Loading data into {table_name}...\")\n",
    "    df.to_sql(table_name, con = conn, if_exists='replace', index = False)\n",
    "    print(f\"ok\")"
   ]
  },
  {
   "cell_type": "markdown",
   "metadata": {},
   "source": [
    " ## Uploading data"
   ]
  },
  {
   "cell_type": "markdown",
   "metadata": {},
   "source": [
    " ##### Upload `aircraft_df` to table`aircraft`"
   ]
  },
  {
   "cell_type": "code",
   "execution_count": 6,
   "metadata": {},
   "outputs": [
    {
     "name": "stdout",
     "output_type": "stream",
     "text": [
      "Loading data into aircraft...\n",
      "ok\n"
     ]
    }
   ],
   "source": [
    "export_table_to_db(df_aircraft, 'aircraft')"
   ]
  },
  {
   "cell_type": "markdown",
   "metadata": {},
   "source": [
    " ##### Upload `airport_weather_df` to table `airport_weather`"
   ]
  },
  {
   "cell_type": "code",
   "execution_count": 7,
   "metadata": {},
   "outputs": [
    {
     "name": "stdout",
     "output_type": "stream",
     "text": [
      "Loading data into airport_weather...\n",
      "ok\n"
     ]
    }
   ],
   "source": [
    "export_table_to_db(df_airport_weather, 'airport_weather')"
   ]
  },
  {
   "cell_type": "markdown",
   "metadata": {},
   "source": [
    " ##### Upload `flight_df` to table `flight`\n",
    " > Executing this cell may take several minutes due to the amount of data in this dataframe"
   ]
  },
  {
   "cell_type": "code",
   "execution_count": 8,
   "metadata": {},
   "outputs": [
    {
     "name": "stdout",
     "output_type": "stream",
     "text": [
      "Loading data into flight...\n",
      "ok\n"
     ]
    }
   ],
   "source": [
    "export_table_to_db(df_flight, 'flight')"
   ]
  },
  {
   "cell_type": "markdown",
   "metadata": {},
   "source": [
    " ##### Upload `airport_list_df` to table`airport_list`"
   ]
  },
  {
   "cell_type": "code",
   "execution_count": 9,
   "metadata": {},
   "outputs": [
    {
     "name": "stdout",
     "output_type": "stream",
     "text": [
      "Loading data into airport_list...\n",
      "ok\n"
     ]
    }
   ],
   "source": [
    "export_table_to_db(df_airport_list, 'airport_list')"
   ]
  },
  {
   "cell_type": "markdown",
   "metadata": {},
   "source": [
    " ## Sum up\n",
    "In this notebook, I loaded the previously downloaded files into the database. Thanks to this, I have created a central place for storing data, which I will use both for data analysis and the subsequent construction of a reporting system."
   ]
  }
 ],
 "metadata": {
  "kernelspec": {
   "display_name": "Python 3 (ipykernel)",
   "language": "python",
   "name": "python3"
  },
  "language_info": {
   "codemirror_mode": {
    "name": "ipython",
    "version": 3
   },
   "file_extension": ".py",
   "mimetype": "text/x-python",
   "name": "python",
   "nbconvert_exporter": "python",
   "pygments_lexer": "ipython3",
   "version": "3.9.13"
  },
  "vscode": {
   "interpreter": {
    "hash": "38d75d0df746d7f75dd34c5d1915af59cb55786647bd68b8d9064425d7680b12"
   }
  }
 },
 "nbformat": 4,
 "nbformat_minor": 2
}
