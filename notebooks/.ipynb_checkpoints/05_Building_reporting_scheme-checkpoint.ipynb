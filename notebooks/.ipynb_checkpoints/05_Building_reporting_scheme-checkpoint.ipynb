{
 "cells": [
  {
   "cell_type": "markdown",
   "metadata": {},
   "source": [
    " # BI Engineer module\n",
    "The analysis prepared in the previous step was received positively.\n",
    "\n",
    "Therefore, I was asked to prepare a database for reporting purposes.\n",
    "\n",
    "Knowing the report requirements, I will create appropriate components on the database that can later be used for visualization.\n",
    "\n",
    "\n",
    "This notebook focuses on properly preparing the database for reporting purposes."
   ]
  },
  {
   "cell_type": "markdown",
   "metadata": {},
   "source": [
    " ## Business requirements\n",
    " \n",
    " Following the presentation of the analysis results at an independent meeting, the following areas for reporting the percentage of flight delays were identified:\n",
    " 1. Displaying the TOP 10 (in terms of the highest percentage of delays) airports based on the number of departures, information about the number of arrivals is also to be displayed - the `top_airports_by_departure` view.\n",
    " 2. Displaying the TOP 10 (in terms of the highest percentage of delays) flight routes. The order is important to us, for example the route (Warsaw, Paris) is different than (Paris, Warsaw). An additional requirement is that the minimum number of flights on the route is at least 10,000 flights - `top_reliability_roads` view.\n",
    " 3. Comparison of 2019 vs. 2020 to track the impact of COVID on flight operations. We are interested in approaches:\n",
    "    - month to month, for example the percentage of delays January 2019 vs. percentage of delays January 2020, percentage of delays February 2019 vs. percentage of delays February 2020 etc. - `year_to_year_comparison` view\n",
    "    - day to day, for example the percentage of delays Tuesday 2019 vs. percentage of delays Tuesday 2020 - `day_to_day_comparison` view.\n",
    " 4. Daily, i.e. what the global plane flight delay rate looked like on a given day, i.e. percentage of delays on January 1, 2019, percentage of delays on January 2, 2019, etc."
   ]
  },
  {
   "cell_type": "markdown",
   "metadata": {},
   "source": [
    " ## Technical approach to the problem\n",
    " The goal is to separate the data preparation layer (report logic) from the presentation layer (visualization).\n",
    " I want to ensure that the relevant processes only do their job.\n",
    " \n",
    " > In this approach, the presentation layer (chart/report) does not implement business logic to process data. In other words, we do not want, for example, aggregation to be performed when the visualization is created.\n",
    "\n",
    " This approach will be consistent with the modern way of designing applications. This also has an additional benefit - due to the volume of data in the database, we do not have to download it first - the logical layer will aggregate it appropriately and transfer a much smaller number of rows, which will speed up the operation of the whole."
   ]
  },
  {
   "cell_type": "markdown",
   "metadata": {},
   "source": [
    " ## Preparing the database\n",
    " In a database where data is already placed, everything is contained in the `public` schema. Since, as required, I received a new area of ​​data use, I will create a dedicated schema - `reporting`.\n",
    " Next, I will create views that will answer the questions asked earlier.\n",
    " \n",
    " Na bazie danych, gdzie umieszczone są już dane, wszystko zawarte jest na schemacie `public`. Ponieważ zgodnie z wymaganiami otrzymałam nowy obszar wykorzystania danych, stworzę schemat dedykowany - `reporting`.  \n",
    " Dalej stworzę widoki, które odpowiedzą na zadane wcześniej pytania.\n",
    "\n",
    " > By creating a dedicated schema, we can easily implement security for the data we want to share.\n",
    "\n",
    " ## Creating a dedicated scheme\n",
    "I created the scheme and dedicated queries in the file `reporting.sql`"
   ]
  },
  {
   "cell_type": "markdown",
   "metadata": {},
   "source": [
    " ## Database update"
   ]
  },
  {
   "cell_type": "code",
   "execution_count": 1,
   "metadata": {},
   "outputs": [],
   "source": [
    "import psycopg2\n",
    "from psycopg2 import connect\n",
    "from sqlalchemy import create_engine\n",
    "import pandas as pd\n",
    "import plotly.express as px\n",
    "import numpy as np"
   ]
  },
  {
   "cell_type": "code",
   "execution_count": 2,
   "metadata": {},
   "outputs": [],
   "source": [
    "username = 'postgres'\n",
    "password = 'Airwalk92.'\n",
    "host = 'localhost'\n",
    "database = 'airlines'\n",
    "port = 5432"
   ]
  },
  {
   "cell_type": "markdown",
   "metadata": {},
   "source": [
    "Creating variables `url` and `engine`"
   ]
  },
  {
   "cell_type": "code",
   "execution_count": 3,
   "metadata": {},
   "outputs": [],
   "source": [
    "con = psycopg2.connect(\n",
    "            user=username,\n",
    "            password=password,\n",
    "            host=host,\n",
    "            database = database\n",
    "    \n",
    "        )\n",
    "cursor = con.cursor()"
   ]
  },
  {
   "cell_type": "markdown",
   "metadata": {},
   "source": [
    " ## Uploading `reporting.sql`"
   ]
  },
  {
   "cell_type": "code",
   "execution_count": 4,
   "metadata": {},
   "outputs": [],
   "source": [
    "file_path = r'../sql/reporting.sql'"
   ]
  },
  {
   "cell_type": "markdown",
   "metadata": {},
   "source": [
    "Splitting the contents of a file `reporting.sql` into smaller queries using `;`"
   ]
  },
  {
   "cell_type": "code",
   "execution_count": 5,
   "metadata": {},
   "outputs": [
    {
     "data": {
      "text/plain": [
       "6"
      ]
     },
     "execution_count": 5,
     "metadata": {},
     "output_type": "execute_result"
    }
   ],
   "source": [
    "with open(file_path, 'r') as file:\n",
    "    data = file.read()\n",
    "data\n",
    "queries = data.split(';')\n",
    "\n",
    "queries = [query.strip() for query in queries if query.strip() != '']\n",
    "\n",
    "len(queries)"
   ]
  },
  {
   "cell_type": "markdown",
   "metadata": {},
   "source": [
    "Executing each query"
   ]
  },
  {
   "cell_type": "code",
   "execution_count": 6,
   "metadata": {},
   "outputs": [],
   "source": [
    "for query in queries:\n",
    "    try:\n",
    "        cursor.execute(query)\n",
    "    except Exception as e:\n",
    "        print(f\"An error occurred: {e}\")"
   ]
  },
  {
   "cell_type": "markdown",
   "metadata": {},
   "source": [
    "Confirmation of all database operations, views creation"
   ]
  },
  {
   "cell_type": "code",
   "execution_count": 7,
   "metadata": {},
   "outputs": [],
   "source": [
    "for query in queries:\n",
    "    try:\n",
    "        cursor.execute(query)\n",
    "        con.commit()  \n",
    "    except Exception as e:\n",
    "        print(f\"An error occurred: {e}\")\n",
    "        con.rollback()"
   ]
  },
  {
   "cell_type": "code",
   "execution_count": null,
   "metadata": {},
   "outputs": [],
   "source": [
    "con.close()"
   ]
  }
 ],
 "metadata": {
  "kernelspec": {
   "display_name": "Python 3 (ipykernel)",
   "language": "python",
   "name": "python3"
  },
  "language_info": {
   "codemirror_mode": {
    "name": "ipython",
    "version": 3
   },
   "file_extension": ".py",
   "mimetype": "text/x-python",
   "name": "python",
   "nbconvert_exporter": "python",
   "pygments_lexer": "ipython3",
   "version": "3.9.13"
  },
  "vscode": {
   "interpreter": {
    "hash": "38d75d0df746d7f75dd34c5d1915af59cb55786647bd68b8d9064425d7680b12"
   }
  }
 },
 "nbformat": 4,
 "nbformat_minor": 2
}
